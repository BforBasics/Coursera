{
 "cells": [
  {
   "cell_type": "markdown",
   "id": "44e3261c-f83c-4ffc-a44b-0486cf182b8d",
   "metadata": {},
   "source": [
    "# Data Science Tools and Ecosystem"
   ]
  },
  {
   "cell_type": "markdown",
   "id": "fc3c6f76-f8c8-4a48-a3b2-c6b053a42878",
   "metadata": {},
   "source": [
    "In this notebook, Data Science Tools and Ecosystem are summarized."
   ]
  },
  {
   "cell_type": "markdown",
   "id": "daae0225-36c3-46ac-a948-e800a56a11de",
   "metadata": {},
   "source": [
    "**Objectives:**\n",
    "\n",
    "        * To learn about Data Science Tools\n",
    "        * To get an Hands on with Jupyter Notebook\n",
    "        * To get familiar with Markdowns"
   ]
  },
  {
   "cell_type": "markdown",
   "id": "fa652437-aa4f-4626-8694-243bbf9c4a65",
   "metadata": {},
   "source": [
    "Some of the popular languages that Data Scientists use are:\n",
    "\n",
    "        1. Python\n",
    "        2. R\n",
    "        3. SQL"
   ]
  },
  {
   "cell_type": "markdown",
   "id": "4f9f2097-646e-497f-8c44-47880e106dd6",
   "metadata": {},
   "source": [
    "Some of the commonly used libraries used by Data Scientists include:\n",
    "\n",
    "        1. Numpy\n",
    "        2. Pandas\n",
    "        3. Matplotlib"
   ]
  },
  {
   "cell_type": "markdown",
   "id": "f5351f22-8740-41ee-b8cd-03fa133db1b7",
   "metadata": {},
   "source": [
    "| Data Science Tools         |\n",
    "|----------------------------|\n",
    "| Jupyter Notebook           |\n",
    "| RStudio                    |\n",
    "| Apache Zeppelin            |\n"
   ]
  },
  {
   "cell_type": "markdown",
   "id": "fba36130-a6ec-42d2-8adf-618404fee67a",
   "metadata": {},
   "source": [
    "### Below are a few examples of evaluating arithmetic expressions in Python"
   ]
  },
  {
   "cell_type": "code",
   "execution_count": 5,
   "id": "2481336a-bd1d-482a-8cfa-63398e405980",
   "metadata": {},
   "outputs": [
    {
     "data": {
      "text/plain": [
       "17"
      ]
     },
     "execution_count": 5,
     "metadata": {},
     "output_type": "execute_result"
    }
   ],
   "source": [
    "(3*4)+5 \n",
    "\n",
    "# This a simple arithmetic expression to mutiply then add integers"
   ]
  },
  {
   "cell_type": "code",
   "execution_count": 6,
   "id": "cbe4b24e-f2c8-46fb-b1d3-58894b85fa1a",
   "metadata": {},
   "outputs": [
    {
     "data": {
      "text/plain": [
       "3.3333333333333335"
      ]
     },
     "execution_count": 6,
     "metadata": {},
     "output_type": "execute_result"
    }
   ],
   "source": [
    "200 / 60 \n",
    "\n",
    "# This will convert 200 minutes to hours by dividing by 60"
   ]
  },
  {
   "cell_type": "markdown",
   "id": "f6715d9e-9e7d-4075-a345-5cda31c8289d",
   "metadata": {},
   "source": [
    "## Author\n",
    "Balaji Pragadeesh.SE"
   ]
  }
 ],
 "metadata": {
  "kernelspec": {
   "display_name": "Python 3 (ipykernel)",
   "language": "python",
   "name": "python3"
  },
  "language_info": {
   "codemirror_mode": {
    "name": "ipython",
    "version": 3
   },
   "file_extension": ".py",
   "mimetype": "text/x-python",
   "name": "python",
   "nbconvert_exporter": "python",
   "pygments_lexer": "ipython3",
   "version": "3.10.13"
  }
 },
 "nbformat": 4,
 "nbformat_minor": 5
}
